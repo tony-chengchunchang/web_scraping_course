{
 "cells": [
  {
   "cell_type": "markdown",
   "metadata": {},
   "source": [
    "##  目標網址: https://books.toscrape.com/\n",
    "- ### 取得每個分頁的書本資訊並以評價排序"
   ]
  },
  {
   "cell_type": "code",
   "execution_count": 1,
   "metadata": {},
   "outputs": [],
   "source": [
    "import requests\n",
    "from bs4 import BeautifulSoup"
   ]
  },
  {
   "cell_type": "markdown",
   "metadata": {},
   "source": [
    "- ### 以上個章節完成的書本物件為基礎"
   ]
  },
  {
   "cell_type": "code",
   "execution_count": null,
   "metadata": {},
   "outputs": [],
   "source": [
    "class Book:\n",
    "    def __init__(self, soup):\n",
    "        self.soup = soup\n",
    "        \n",
    "    @property\n",
    "    def name(self):\n",
    "        return self.soup.select_one('article h3 a').attrs['title']\n",
    "    \n",
    "    @property\n",
    "    def price(self):\n",
    "        price_with_sign = self.soup.select_one('article div.product_price p.price_color').text\n",
    "        return float(price_with_sign[2:])"
   ]
  },
  {
   "cell_type": "markdown",
   "metadata": {},
   "source": [
    "- ### 將評價加入到物件中\n",
    "\n",
    "\n",
    "    - 取得評價標籤\n",
    "    - 取得標籤屬性\n",
    "    - 取得代表評價星星數的屬性\n",
    "    - 將文字星數轉為數字"
   ]
  },
  {
   "cell_type": "code",
   "execution_count": 2,
   "metadata": {},
   "outputs": [],
   "source": [
    "class Book:\n",
    "    RATING_MAP = {\n",
    "        'Five': 5,\n",
    "        'Four': 4,\n",
    "        'Three': 3,\n",
    "        'Two': 2,\n",
    "        'One':1\n",
    "    }\n",
    "    def __init__(self, soup):\n",
    "        self.soup = soup\n",
    "        \n",
    "    @property\n",
    "    def name(self):\n",
    "        return self.soup.select_one('article h3 a').attrs['title']\n",
    "    \n",
    "    @property\n",
    "    def price(self):\n",
    "        price_with_sign = self.soup.select_one('article div.product_price p.price_color').text\n",
    "        return float(price_with_sign[2:])\n",
    "    \n",
    "    @property\n",
    "    def rating(self):\n",
    "        attrs = self.soup.select_one('article p.star-rating').attrs['class']\n",
    "        rating = [attr for attr in attrs if attr != 'star-rating'][0]\n",
    "        rating_num = self.RATING_MAP[rating]\n",
    "        return rating_num"
   ]
  },
  {
   "cell_type": "markdown",
   "metadata": {},
   "source": [
    "- ### 觀察目標網頁每個分頁的網址變化\n",
    "\n",
    "\n",
    "第一頁:https://books.toscrape.com/catalogue/page-1.html\n",
    "\n",
    "第二頁:https://books.toscrape.com/catalogue/page-2.html\n",
    "\n",
    "..."
   ]
  },
  {
   "cell_type": "markdown",
   "metadata": {},
   "source": [
    "[--QUIZ--]\n",
    "\n",
    "講到這裡，你應該有能力獨立完成後續的程式了\n",
    "\n",
    "嘗試定義一個叫做get_books的函式來完成工作\n",
    "\n",
    "取得每個分頁的書本資訊並以評價排序\n",
    "\n",
    "```\n",
    "def get_books():\n",
    "```"
   ]
  },
  {
   "cell_type": "code",
   "execution_count": null,
   "metadata": {},
   "outputs": [],
   "source": []
  }
 ],
 "metadata": {
  "kernelspec": {
   "display_name": "Python 3",
   "language": "python",
   "name": "python3"
  },
  "language_info": {
   "codemirror_mode": {
    "name": "ipython",
    "version": 3
   },
   "file_extension": ".py",
   "mimetype": "text/x-python",
   "name": "python",
   "nbconvert_exporter": "python",
   "pygments_lexer": "ipython3",
   "version": "3.7.7"
  }
 },
 "nbformat": 4,
 "nbformat_minor": 2
}
