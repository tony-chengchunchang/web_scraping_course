{
 "cells": [
  {
   "cell_type": "markdown",
   "metadata": {},
   "source": [
    "## 動態型網頁簡介\n",
    "\n",
    "    - 傳統網頁產生方式會在收到request時，將整個網頁內容全部回傳，這在網頁內容較大時會是很大的消耗\n",
    "    - 動態型網頁使用JavaScript控制資料的取得，可以在特定動作被觸發時才取得資料回傳 (如滾輪下拉)\n",
    "    - 因此，一般的爬蟲程式在爬取網頁時無法取得資料，因為爬蟲不會觸發JavaScript\n",
    "    - 爬取動態型網頁的其中一種方式是使用selenium套件"
   ]
  },
  {
   "cell_type": "markdown",
   "metadata": {},
   "source": [
    "## Selenium\n",
    "\n",
    "    - 原本的用途是拿來做網頁的自動化測試\n",
    "    - 具有模擬使用者動作的功能\n",
    "    - 可以模擬一連串的使用者操作瀏覽器的行為，並在瀏覽器上觸發JavaScript，因此可以看到實際的網頁內容\n",
    "    - 取得內容之後一樣可以搭配BeautifulSoup做網頁解析"
   ]
  },
  {
   "cell_type": "markdown",
   "metadata": {},
   "source": [
    "## 下載chrome driver\n",
    "\n",
    "    這是讓你用來控制chrome的工具，後續使用selenium時會用到"
   ]
  },
  {
   "cell_type": "markdown",
   "metadata": {},
   "source": [
    "- ### 檢查Chrome版本\n",
    "\n",
    "    Chrome瀏覽器 - 自訂與管理 - 設定 - 關於Chrome"
   ]
  },
  {
   "cell_type": "markdown",
   "metadata": {},
   "source": [
    "- ### 下載網址\n",
    "\n",
    "    http://chromedriver.chromium.org/downloads\n",
    "    \n",
    "    下載後將driver放到你要執行工作的目錄"
   ]
  },
  {
   "cell_type": "markdown",
   "metadata": {},
   "source": [
    "## 下載selenium\n",
    "\n",
    "    conda install -c anaconda selenium"
   ]
  }
 ],
 "metadata": {
  "kernelspec": {
   "display_name": "Python 3 (ipykernel)",
   "language": "python",
   "name": "python3"
  },
  "language_info": {
   "codemirror_mode": {
    "name": "ipython",
    "version": 3
   },
   "file_extension": ".py",
   "mimetype": "text/x-python",
   "name": "python",
   "nbconvert_exporter": "python",
   "pygments_lexer": "ipython3",
   "version": "3.9.18"
  }
 },
 "nbformat": 4,
 "nbformat_minor": 2
}
