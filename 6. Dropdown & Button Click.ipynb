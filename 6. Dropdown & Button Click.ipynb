{
 "cells": [
  {
   "cell_type": "markdown",
   "metadata": {},
   "source": [
    "## 目標網址: https://quotes.toscrape.com/search.aspx\n",
    "- ### 使用selenium取得author = Albert Einstein & tag = world 的quote內容: "
   ]
  },
  {
   "cell_type": "markdown",
   "metadata": {},
   "source": [
    "- ### 載入套件"
   ]
  },
  {
   "cell_type": "code",
   "execution_count": 1,
   "metadata": {},
   "outputs": [],
   "source": [
    "# 用來啟動driver\n",
    "from selenium import webdriver\n",
    "\n",
    "# 用來處理下拉式選單\n",
    "from selenium.webdriver.support.ui import Select"
   ]
  },
  {
   "cell_type": "markdown",
   "metadata": {},
   "source": [
    "- ### 開啟瀏覽器"
   ]
  },
  {
   "cell_type": "code",
   "execution_count": null,
   "metadata": {},
   "outputs": [],
   "source": [
    "driver = webdriver.Chrome('chromedriver.exe')"
   ]
  },
  {
   "cell_type": "markdown",
   "metadata": {},
   "source": [
    "- ### 輸入網址"
   ]
  },
  {
   "cell_type": "code",
   "execution_count": null,
   "metadata": {},
   "outputs": [],
   "source": [
    "driver.get('https://quotes.toscrape.com/search.aspx')"
   ]
  },
  {
   "cell_type": "markdown",
   "metadata": {},
   "source": [
    "- ### 使用Select來處理下拉選單\n",
    "    \n",
    "    介紹id屬性"
   ]
  },
  {
   "cell_type": "code",
   "execution_count": null,
   "metadata": {},
   "outputs": [],
   "source": [
    "# author 選單\n",
    "author_dropdown = Select(driver.find_element_by_css_selector('#author'))\n",
    "author_dropdown.select_by_visible_text('Albert Einstein')"
   ]
  },
  {
   "cell_type": "code",
   "execution_count": null,
   "metadata": {},
   "outputs": [],
   "source": [
    "# tag 選單\n",
    "tag_dropdown = Select(driver.find_element_by_css_selector('#tag'))\n",
    "tag_dropdown.select_by_visible_text('world')"
   ]
  },
  {
   "cell_type": "markdown",
   "metadata": {},
   "source": [
    "- ### 定位按鈕"
   ]
  },
  {
   "cell_type": "code",
   "execution_count": null,
   "metadata": {},
   "outputs": [],
   "source": [
    "search_button = driver.find_element_by_name('submit_button')"
   ]
  },
  {
   "cell_type": "markdown",
   "metadata": {},
   "source": [
    "- ### 點擊按鈕\n",
    "\n",
    "    注意點擊後quote會出現"
   ]
  },
  {
   "cell_type": "code",
   "execution_count": null,
   "metadata": {},
   "outputs": [],
   "source": [
    "search_button.click()"
   ]
  },
  {
   "cell_type": "markdown",
   "metadata": {},
   "source": [
    "- ### 取得quote內容"
   ]
  },
  {
   "cell_type": "code",
   "execution_count": null,
   "metadata": {},
   "outputs": [],
   "source": [
    "quote = driver.find_element_by_css_selector('div.results div.quote')"
   ]
  },
  {
   "cell_type": "code",
   "execution_count": null,
   "metadata": {},
   "outputs": [],
   "source": [
    "quote.text"
   ]
  },
  {
   "cell_type": "markdown",
   "metadata": {},
   "source": [
    "- ### 關閉瀏覽器"
   ]
  },
  {
   "cell_type": "code",
   "execution_count": null,
   "metadata": {},
   "outputs": [],
   "source": [
    "driver.quit()"
   ]
  },
  {
   "cell_type": "markdown",
   "metadata": {},
   "source": [
    "- ### 優化程式\n",
    "\n",
    "\n",
    "    - 使用類別封裝還是函式封裝"
   ]
  },
  {
   "cell_type": "markdown",
   "metadata": {},
   "source": [
    "[--QUIZ--]\n",
    "\n",
    "寫出函式封裝"
   ]
  },
  {
   "cell_type": "code",
   "execution_count": null,
   "metadata": {},
   "outputs": [],
   "source": []
  },
  {
   "cell_type": "code",
   "execution_count": null,
   "metadata": {},
   "outputs": [],
   "source": [
    "# 類別封裝\n",
    "class Page:\n",
    "    def __init__(self, driver):\n",
    "        self.driver = driver\n",
    "    \n",
    "    @property\n",
    "    def author_dropdown(self):\n",
    "        return Select(self.driver.find_element_by_css_selector('select#author'))\n",
    "    \n",
    "    @property\n",
    "    def tag_dropdown(self):\n",
    "        return Select(self.driver.find_element_by_css_selector('select#tag'))\n",
    "    \n",
    "    @property\n",
    "    def search_btn(self):\n",
    "        return self.driver.find_element_by_name('submit_button')\n",
    "        \n",
    "    def get_quote_content(self, author, tag):\n",
    "        self.author_dropdown.select_by_visible_text(author)\n",
    "        self.tag_dropdown.select_by_visible_text(tag)\n",
    "        self.search_btn.click()\n",
    "        \n",
    "        quote = self.driver.find_element_by_css_selector('div.results div.quote')\n",
    "        \n",
    "        return quote.text"
   ]
  },
  {
   "cell_type": "markdown",
   "metadata": {},
   "source": [
    "- ### 控制延遲時間\n",
    "\n",
    "\n",
    "    - 因為selenium使直接對瀏覽器作用，即實際送出請求，實際觸發JavaScript\n",
    "    - 當有網頁回傳延遲時，有機會發生錯誤"
   ]
  },
  {
   "cell_type": "code",
   "execution_count": null,
   "metadata": {},
   "outputs": [],
   "source": [
    "# 使用 time 模組\n",
    "import time\n",
    "\n",
    "time.sleep(3)"
   ]
  },
  {
   "cell_type": "code",
   "execution_count": 1,
   "metadata": {},
   "outputs": [],
   "source": [
    "# 使用 selenium WebDriverWait\n",
    "from selenium.webdriver.common.by import By\n",
    "from selenium.webdriver.support import expected_conditions\n",
    "from selenium.webdriver.support.wait import WebDriverWait"
   ]
  },
  {
   "cell_type": "code",
   "execution_count": null,
   "metadata": {},
   "outputs": [],
   "source": [
    "WebDriverWait(driver, 3).until(\n",
    "    expected_conditions.presence_of_element_located(\n",
    "    (By.ID, 'author')\n",
    "    )\n",
    ")"
   ]
  }
 ],
 "metadata": {
  "kernelspec": {
   "display_name": "Python 3 (ipykernel)",
   "language": "python",
   "name": "python3"
  },
  "language_info": {
   "codemirror_mode": {
    "name": "ipython",
    "version": 3
   },
   "file_extension": ".py",
   "mimetype": "text/x-python",
   "name": "python",
   "nbconvert_exporter": "python",
   "pygments_lexer": "ipython3",
   "version": "3.9.19"
  }
 },
 "nbformat": 4,
 "nbformat_minor": 2
}
