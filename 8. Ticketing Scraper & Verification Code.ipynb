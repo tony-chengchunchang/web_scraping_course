{
 "cells": [
  {
   "cell_type": "markdown",
   "metadata": {},
   "source": [
    "## 搶票範例1: 自動驗證\n",
    "- ### 目標網站: https://kham.com.tw/application/UTK02/UTK0201_00.aspx?PRODUCT_ID=N0L1AZAH   (寬宏售票)"
   ]
  },
  {
   "cell_type": "markdown",
   "metadata": {},
   "source": [
    "- ### 載入套件\n",
    "\n",
    "    自行下載安裝PIL及pytesseract以及tesseract套件"
   ]
  },
  {
   "cell_type": "code",
   "execution_count": 1,
   "metadata": {},
   "outputs": [],
   "source": [
    "from selenium import webdriver\n",
    "from PIL import Image                                # 用來處理圖片\n",
    "import pytesseract                                   # Google開源庫，用來做文字辨識 (需安裝 tesseract)  \n",
    "import re                                            # 正規表達式模組 (非必要式驗證碼情況而定)"
   ]
  },
  {
   "cell_type": "markdown",
   "metadata": {},
   "source": [
    "- ### 開啟瀏覽器與網站"
   ]
  },
  {
   "cell_type": "code",
   "execution_count": null,
   "metadata": {},
   "outputs": [],
   "source": [
    "driver = webdriver.Chrome()\n",
    "driver.get('https://kham.com.tw/application/UTK02/UTK0201_00.aspx?PRODUCT_ID=N0L1AZAH')"
   ]
  },
  {
   "cell_type": "markdown",
   "metadata": {},
   "source": [
    "- ### 開啟全螢幕\n",
    "\n",
    "    因為等等要擷取螢幕上的驗證碼，不開全螢幕的話比例會跑掉"
   ]
  },
  {
   "cell_type": "code",
   "execution_count": null,
   "metadata": {},
   "outputs": [],
   "source": [
    "driver.maximize_window()"
   ]
  },
  {
   "cell_type": "markdown",
   "metadata": {},
   "source": [
    "- ### 依序點擊想要的訂票資訊\n",
    "\n",
    "    補充說明:\n",
    "    1. 實際情況中，應可先觀察其他售票活動的流程，搭配預先知道的資訊來做爬蟲\n",
    "    2. 舉例來說，不同活動的標籤/id可能不同，因此多使用預先知道的資訊如:活動時間/地點，做為執行爬蟲的依據"
   ]
  },
  {
   "cell_type": "markdown",
   "metadata": {},
   "source": [
    "- ### 選擇場次\n",
    "\n",
    "    因寬宏的網頁結構教不嚴謹，重複的tag很多，缺乏屬性參考，所以需要用較複雜的表示法定位"
   ]
  },
  {
   "cell_type": "code",
   "execution_count": null,
   "metadata": {},
   "outputs": [],
   "source": [
    "# 選擇場次表中，align屬性是left的列，因為除了表頭是center外，其他都是left，也就是選取所有的活動場次\n",
    "events = driver.find_elements_by_css_selector('#ctl00_ContentPlaceHolder1_DataGrid tr[align=left]')\n",
    "\n",
    "# 迭代所有場次，場次中第一個資訊是日期，這裡假定已經預先看好要買的場次日期，所以直接對每個場次做比對\n",
    "# 找到目標場次後，點擊立即訂購 (一列的每個資訊中，只有最後一個立即訂購的align是right)\n",
    "for event in events:\n",
    "    if '2020/12/12' in event.find_element_by_css_selector('td[align=left]').text:\n",
    "        event.find_element_by_css_selector('td[align=right]').click()\n",
    "        break"
   ]
  },
  {
   "cell_type": "markdown",
   "metadata": {},
   "source": [
    "- ### 選取位置\n",
    "\n",
    "    這裡有的系統會有自行選位或是電腦配位的選擇，選擇電腦配位可以節省時間"
   ]
  },
  {
   "cell_type": "code",
   "execution_count": null,
   "metadata": {},
   "outputs": [],
   "source": [
    "# 選擇電腦配位\n",
    "driver.find_element_by_id('ctl00_ContentPlaceHolder1_BUY_TYPE_2').click()\n",
    "\n",
    "# 選擇區域\n",
    "# 這裡直接用id選，但實際操作可以根據個人需求，如價格區段，另外寫邏輯\n",
    "driver.find_element_by_id('N0L1AZBJ').click()"
   ]
  },
  {
   "cell_type": "markdown",
   "metadata": {},
   "source": [
    "- ### 選擇張數"
   ]
  },
  {
   "cell_type": "code",
   "execution_count": null,
   "metadata": {},
   "outputs": [],
   "source": [
    "driver.find_element_by_id('ctl00_ContentPlaceHolder1_DataGrid_ctl02_AMOUNT').send_keys('2')"
   ]
  },
  {
   "cell_type": "markdown",
   "metadata": {},
   "source": [
    "- ### 登入\n",
    "\n",
    "    注意到目前為止我們還沒實際登入系統，寬宏的系統可以在這個步驟再登入"
   ]
  },
  {
   "cell_type": "code",
   "execution_count": null,
   "metadata": {},
   "outputs": [],
   "source": [
    "driver.find_element_by_id('ctl00_ContentPlaceHolder1_LOGIN_ID').send_keys('YOUR_ACCOUNT')\n",
    "driver.find_element_by_id('ctl00_ContentPlaceHolder1_LOGIN_PWD').send_keys('YOUR_PASSWD')"
   ]
  },
  {
   "cell_type": "markdown",
   "metadata": {},
   "source": [
    "- ### 驗證碼處理\n",
    "\n",
    "    為了處理驗證碼，我們需要執行以下步驟:\n",
    "    \n",
    "    1. 螢幕截圖(全螢幕)，下載到本地\n",
    "    2. 開啟截圖，再擷取驗整碼圖片\n",
    "    3. 辨識驗證碼\n",
    "    4. 將辨識結果輸入網頁空格"
   ]
  },
  {
   "cell_type": "markdown",
   "metadata": {},
   "source": [
    "- ### 螢幕截圖"
   ]
  },
  {
   "cell_type": "code",
   "execution_count": null,
   "metadata": {},
   "outputs": [],
   "source": [
    "driver.save_screenshot('test_img.png')"
   ]
  },
  {
   "cell_type": "markdown",
   "metadata": {},
   "source": [
    "- ### 擷取驗證碼圖片"
   ]
  },
  {
   "cell_type": "code",
   "execution_count": null,
   "metadata": {},
   "outputs": [],
   "source": [
    "# 取得網頁上的驗證碼tag\n",
    "ver_code_tag = driver.find_element_by_id('chk_pic')\n",
    "\n",
    "# 取得tag座標\n",
    "loc = ver_code_tag.location\n",
    "\n",
    "# 取得圖片長寬\n",
    "width = ver_code_tag.size['width']\n",
    "height = ver_code_tag.size['height']\n",
    "\n",
    "# 讀取剛剛的全螢幕截圖\n",
    "img = Image.open('test_img.png')\n",
    "\n",
    "# 用座標+長寬來界定驗證碼圖片的區塊\n",
    "box = (loc['x'], loc['y'], loc['x']+width, loc['y']+height)\n",
    "\n",
    "# 取得驗證碼圖片\n",
    "ver_img = img.crop(box)"
   ]
  },
  {
   "cell_type": "markdown",
   "metadata": {},
   "source": [
    "- ### 辨識驗證碼\n",
    "\n",
    "    這裡要進行圖片去噪的動作，為了方便使用，將去噪過程寫成函式"
   ]
  },
  {
   "cell_type": "code",
   "execution_count": null,
   "metadata": {},
   "outputs": [],
   "source": [
    "def denoise(img):\n",
    "    grey = img.convert('L')                                # 灰階轉換\n",
    "    text = pytesseract.image_to_string(grey)               # 使用pytesseract辨識\n",
    "    res = re.sub('\\W', '', text)                           # 去除非字元或數字，即去除符號與空格\n",
    "\n",
    "    return res\n",
    "\n",
    "\n",
    "ver_code = denoise(ver_img)\n",
    "print('Verification Code: {}'.format(ver_code))"
   ]
  },
  {
   "cell_type": "markdown",
   "metadata": {},
   "source": [
    "- ### 將結果輸入驗證碼空格"
   ]
  },
  {
   "cell_type": "code",
   "execution_count": null,
   "metadata": {},
   "outputs": [],
   "source": [
    "driver.find_element_by_id('ctl00_ContentPlaceHolder1_CHK').send_keys(ver_code)"
   ]
  },
  {
   "cell_type": "markdown",
   "metadata": {},
   "source": [
    "- ### 點擊加入購物車"
   ]
  },
  {
   "cell_type": "code",
   "execution_count": null,
   "metadata": {},
   "outputs": [],
   "source": [
    "driver.find_element_by_id('ctl00_ContentPlaceHolder1_AddShopingCart').click()"
   ]
  },
  {
   "cell_type": "markdown",
   "metadata": {},
   "source": [
    "- ### 結尾\n",
    "\n",
    "    若程式執行至此沒有錯誤，則表示順利搶到票，可以慢慢填付款資訊送出\n",
    "    \n",
    "    最後別忘記關閉連線"
   ]
  },
  {
   "cell_type": "code",
   "execution_count": null,
   "metadata": {},
   "outputs": [],
   "source": [
    "driver.quit()"
   ]
  }
 ],
 "metadata": {
  "kernelspec": {
   "display_name": "Python 3",
   "language": "python",
   "name": "python3"
  },
  "language_info": {
   "codemirror_mode": {
    "name": "ipython",
    "version": 3
   },
   "file_extension": ".py",
   "mimetype": "text/x-python",
   "name": "python",
   "nbconvert_exporter": "python",
   "pygments_lexer": "ipython3",
   "version": "3.7.3"
  }
 },
 "nbformat": 4,
 "nbformat_minor": 2
}
