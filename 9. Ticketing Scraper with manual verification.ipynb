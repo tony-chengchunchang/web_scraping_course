{
 "cells": [
  {
   "cell_type": "markdown",
   "metadata": {},
   "source": [
    "## 搶票範例2:  手動驗證\n",
    "- ### 目標網址: https://tixcraft.com/activity/detail/20_YOROSHIKU (拓元售票)"
   ]
  },
  {
   "cell_type": "markdown",
   "metadata": {},
   "source": [
    "- ### 載入套件"
   ]
  },
  {
   "cell_type": "code",
   "execution_count": null,
   "metadata": {},
   "outputs": [],
   "source": [
    "from selenium import webdriver\n",
    "from selenium.webdriver.support.ui import Select"
   ]
  },
  {
   "cell_type": "markdown",
   "metadata": {},
   "source": [
    "- ### 開啟網頁\n",
    "\n",
    "    不用全螢幕，因為要採手動驗證"
   ]
  },
  {
   "cell_type": "code",
   "execution_count": null,
   "metadata": {},
   "outputs": [],
   "source": [
    "driver = webdriver.Chrome()\n",
    "\n",
    "driver.get('https://tixcraft.com/activity/detail/20_YOROSHIKU')"
   ]
  },
  {
   "cell_type": "markdown",
   "metadata": {},
   "source": [
    "- ### 補充說明\n",
    "\n",
    "    1. 拓元一開始就會要求登入\n",
    "    2. 若使用Facebook登入，則會遇到兩階段驗證流程\n",
    "    3. 因此這裡需要先做手動登入，確保後續流程沒有權限問題\n",
    "    4. 若是用輸入帳密的方式則可參考先前寬宏的做法"
   ]
  },
  {
   "cell_type": "markdown",
   "metadata": {},
   "source": [
    "- ### 點擊立即購票\n",
    "\n",
    "    立即購票永遠是第一個選項"
   ]
  },
  {
   "cell_type": "code",
   "execution_count": null,
   "metadata": {},
   "outputs": [],
   "source": [
    "driver.find_element_by_css_selector('div.col-xs-12 ul.list-inline li').click()"
   ]
  },
  {
   "cell_type": "markdown",
   "metadata": {},
   "source": [
    "- ### 延遲操作\n",
    "\n",
    "    點擊立即購票之後，可選擇的場次出現前會有小段延遲，使用延遲操作來處理"
   ]
  },
  {
   "cell_type": "code",
   "execution_count": null,
   "metadata": {},
   "outputs": [],
   "source": [
    "# 等table出現再做事\n",
    "WebDriverWait(driver, 5).until(\n",
    "    expected_conditions.presence_of_element_located(\n",
    "    (By.CSS_SELECTOR, 'table')\n",
    "    )\n",
    ")"
   ]
  },
  {
   "cell_type": "markdown",
   "metadata": {},
   "source": [
    "- ### 選擇場次"
   ]
  },
  {
   "cell_type": "code",
   "execution_count": null,
   "metadata": {},
   "outputs": [],
   "source": [
    "# 選table底下所有的場次\n",
    "events = driver.find_elements_by_css_selector('table tbody tr')\n",
    "\n",
    "# 選擇預先想好的場次\n",
    "for event in events:\n",
    "    if '2020/12/05' in event.find_element_by_css_selector('td').text:\n",
    "        event.find_element_by_css_selector('input.btn').click()\n",
    "        break"
   ]
  },
  {
   "cell_type": "markdown",
   "metadata": {},
   "source": [
    "- ### 選擇區域\n",
    "\n",
    "    預設電腦選位\n",
    "    \n",
    "    注意這裡做法是選取第一個ul.area-list底下的a tag，因為有a tag表示還有座位，否則a tag不會存在"
   ]
  },
  {
   "cell_type": "code",
   "execution_count": null,
   "metadata": {},
   "outputs": [],
   "source": [
    "driver.find_element_by_css_selector('ul.area-list a').click()"
   ]
  },
  {
   "cell_type": "markdown",
   "metadata": {},
   "source": [
    "- ### 下拉式選單\n",
    "\n",
    "    選取2張票為例"
   ]
  },
  {
   "cell_type": "code",
   "execution_count": null,
   "metadata": {},
   "outputs": [],
   "source": [
    "quantity_drop_down = Select(driver.find_element_by_id('TicketForm_ticketPrice_01'))\n",
    "quantity_drop_down.select_by_visible_text('2')"
   ]
  },
  {
   "cell_type": "markdown",
   "metadata": {},
   "source": [
    "- ### 勾選我同意選項"
   ]
  },
  {
   "cell_type": "code",
   "execution_count": null,
   "metadata": {},
   "outputs": [],
   "source": [
    "driver.find_element_by_id('TicketForm_agree').click()"
   ]
  },
  {
   "cell_type": "markdown",
   "metadata": {},
   "source": [
    "- ### 手動驗證碼\n",
    "\n",
    "    前面提過由於拓元驗證碼較困難，因此理像狀況是爬蟲程式將填驗證碼前的步驟完成，由人手動輸入驗證碼"
   ]
  },
  {
   "cell_type": "markdown",
   "metadata": {},
   "source": [
    "- ### 結束連線"
   ]
  },
  {
   "cell_type": "code",
   "execution_count": null,
   "metadata": {},
   "outputs": [],
   "source": [
    "driver.quit()"
   ]
  }
 ],
 "metadata": {
  "kernelspec": {
   "display_name": "Python 3",
   "language": "python",
   "name": "python3"
  },
  "language_info": {
   "codemirror_mode": {
    "name": "ipython",
    "version": 3
   },
   "file_extension": ".py",
   "mimetype": "text/x-python",
   "name": "python",
   "nbconvert_exporter": "python",
   "pygments_lexer": "ipython3",
   "version": "3.7.3"
  }
 },
 "nbformat": 4,
 "nbformat_minor": 2
}
